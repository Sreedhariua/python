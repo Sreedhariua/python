{
 "cells": [
  {
   "cell_type": "code",
   "execution_count": null,
   "metadata": {
    "id": "S8HgHE_vK7Gt"
   },
   "outputs": [],
   "source": [
    "### SECTION 1-BEGINNER LEVEL QUESTIONS"
   ]
  },
  {
   "cell_type": "code",
   "execution_count": null,
   "metadata": {
    "id": "YxEIkOh1nOkW"
   },
   "outputs": [],
   "source": [
    "##2. Reverse a list using Python\n"
   ]
  },
  {
   "cell_type": "code",
   "execution_count": null,
   "metadata": {
    "colab": {
     "base_uri": "https://localhost:8080/"
    },
    "executionInfo": {
     "elapsed": 20,
     "status": "ok",
     "timestamp": 1670829229950,
     "user": {
      "displayName": "CSE_Sreedhari UA_50",
      "userId": "15858189763876286557"
     },
     "user_tz": -330
    },
    "id": "xJvedApALYLI",
    "outputId": "666210e3-f2af-4d2d-a831-fd15e2ce821c"
   },
   "outputs": [
    {
     "name": "stdout",
     "output_type": "stream",
     "text": [
      "[500, 400, 300, 200, 100]\n"
     ]
    }
   ],
   "source": [
    "list1 = [100, 200, 300, 400, 500]\n",
    "list1.reverse()\n",
    "print(list1)\n"
   ]
  },
  {
   "cell_type": "code",
   "execution_count": null,
   "metadata": {
    "id": "c45g-11MLsFN"
   },
   "outputs": [],
   "source": [
    "###3. Given two numbers, write a python code to find the maximum of these two numbers.\n",
    "##Sample input: a=2, b=4"
   ]
  },
  {
   "cell_type": "code",
   "execution_count": null,
   "metadata": {
    "colab": {
     "base_uri": "https://localhost:8080/"
    },
    "executionInfo": {
     "elapsed": 699,
     "status": "ok",
     "timestamp": 1670829632401,
     "user": {
      "displayName": "CSE_Sreedhari UA_50",
      "userId": "15858189763876286557"
     },
     "user_tz": -330
    },
    "id": "urpf0QMkMNhs",
    "outputId": "522aa024-0a6d-4c3e-ae30-577aa03c94d3"
   },
   "outputs": [
    {
     "name": "stdout",
     "output_type": "stream",
     "text": [
      "4\n"
     ]
    }
   ],
   "source": [
    "def maximum(a,b):\n",
    "  if a>=b:\n",
    "    return a\n",
    "  else:\n",
    "    return b\n",
    "a=2\n",
    "b=4\n",
    "print(maximum(a,b))"
   ]
  },
  {
   "cell_type": "code",
   "execution_count": null,
   "metadata": {
    "id": "2t41DO8MM7DV"
   },
   "outputs": [],
   "source": [
    "###4. Write a python program to find the square of 5.\n"
   ]
  },
  {
   "cell_type": "code",
   "execution_count": 1,
   "metadata": {
    "colab": {
     "base_uri": "https://localhost:8080/"
    },
    "executionInfo": {
     "elapsed": 23,
     "status": "ok",
     "timestamp": 1670877145749,
     "user": {
      "displayName": "CSE_Sreedhari UA_50",
      "userId": "15858189763876286557"
     },
     "user_tz": -330
    },
    "id": "kuZEEI9jNbhX",
    "outputId": "3ab82af5-40e5-4ff1-fc43-b7d651f3f790"
   },
   "outputs": [
    {
     "name": "stdout",
     "output_type": "stream",
     "text": [
      "25\n"
     ]
    }
   ],
   "source": [
    "n=5\n",
    "square=n**2\n",
    "print(square)"
   ]
  },
  {
   "cell_type": "code",
   "execution_count": null,
   "metadata": {
    "id": "4ANqsh5pm_yG"
   },
   "outputs": [],
   "source": [
    "### SECTION 2-INTERMEDIATE LEVEL QUESTIONS"
   ]
  },
  {
   "cell_type": "code",
   "execution_count": null,
   "metadata": {
    "id": "OBRaTBFZNqD6"
   },
   "outputs": [],
   "source": [
    "####7. Write a Python program to construct the following pattern, using a nested for loop."
   ]
  },
  {
   "cell_type": "code",
   "execution_count": null,
   "metadata": {
    "colab": {
     "base_uri": "https://localhost:8080/"
    },
    "executionInfo": {
     "elapsed": 5566,
     "status": "ok",
     "timestamp": 1670830336829,
     "user": {
      "displayName": "CSE_Sreedhari UA_50",
      "userId": "15858189763876286557"
     },
     "user_tz": -330
    },
    "id": "R_FtllrcOVaF",
    "outputId": "c9d6b4bd-0b42-4bf9-82f5-21ad8c896966"
   },
   "outputs": [
    {
     "name": "stdout",
     "output_type": "stream",
     "text": [
      "Enter the number of rows5\n",
      "*\n",
      "**\n",
      "***\n",
      "****\n",
      "*****\n",
      "****\n",
      "***\n",
      "**\n",
      "*\n",
      "\n"
     ]
    }
   ],
   "source": [
    "num=int(input('Enter the number of rows'))\n",
    "for i in range(0,num):\n",
    "  for j in range(0,i+1):\n",
    "    print('*',end='')\n",
    "  print() \n",
    "\n",
    "for i in range(0,num):\n",
    "  for j in range(i,num-1):\n",
    "    print('*',end='')\n",
    "  print()"
   ]
  },
  {
   "cell_type": "code",
   "execution_count": null,
   "metadata": {
    "id": "GeqWoaLdPMFz"
   },
   "outputs": [],
   "source": [
    "###8. Write a python function to calculate the factorial of a number (a non negative integer). The function accepts the number as an argument.\n",
    "###Sample input: 3, Sample output: 6"
   ]
  },
  {
   "cell_type": "code",
   "execution_count": null,
   "metadata": {
    "colab": {
     "base_uri": "https://localhost:8080/"
    },
    "executionInfo": {
     "elapsed": 4874,
     "status": "ok",
     "timestamp": 1670830747954,
     "user": {
      "displayName": "CSE_Sreedhari UA_50",
      "userId": "15858189763876286557"
     },
     "user_tz": -330
    },
    "id": "QhmAolGEQj1a",
    "outputId": "ae2a3040-2a0d-468b-cfc5-4eb55f047fdb"
   },
   "outputs": [
    {
     "name": "stdout",
     "output_type": "stream",
     "text": [
      "Enter the number3\n",
      "6\n"
     ]
    }
   ],
   "source": [
    "def fact(n):\n",
    "  if n<=0:\n",
    "    return 1\n",
    "  else:\n",
    "    return n*fact(n-1)\n",
    "n=int(input('Enter the number'))\n",
    "print(fact(n))\n"
   ]
  },
  {
   "cell_type": "code",
   "execution_count": null,
   "metadata": {
    "id": "X6NifbauRdoS"
   },
   "outputs": [],
   "source": [
    "###10. Write a program to accept a string from the user and display characters that are present at an even index number"
   ]
  },
  {
   "cell_type": "code",
   "execution_count": null,
   "metadata": {
    "colab": {
     "base_uri": "https://localhost:8080/"
    },
    "executionInfo": {
     "elapsed": 14678,
     "status": "ok",
     "timestamp": 1670831516378,
     "user": {
      "displayName": "CSE_Sreedhari UA_50",
      "userId": "15858189763876286557"
     },
     "user_tz": -330
    },
    "id": "uD0Er0MRR9t6",
    "outputId": "fdf413c3-b497-4331-9ccb-1e9d9e85e555"
   },
   "outputs": [
    {
     "name": "stdout",
     "output_type": "stream",
     "text": [
      "Enter a string:python programming\n",
      "Odd characters:{} ['y', 'h', 'n', 'p', 'o', 'r', 'm', 'i', 'g']\n",
      "Even characters:{} ['p', 't', 'o', ' ', 'r', 'g', 'a', 'm', 'n']\n"
     ]
    }
   ],
   "source": [
    "str=input('Enter a string:')\n",
    "even_chars=[]\n",
    "odd_chars=[]\n",
    "for i in range(len(str)):\n",
    "  if i%2==0:\n",
    "    even_chars.append(str[i])\n",
    "  else:\n",
    "    odd_chars.append(str[i])\n",
    "print('Odd characters:{}',odd_chars)\n",
    "print('Even characters:{}',even_chars)"
   ]
  },
  {
   "cell_type": "code",
   "execution_count": null,
   "metadata": {
    "id": "-l5TW-cLmwJs"
   },
   "outputs": [],
   "source": [
    "### SECTION 3-DIFFICULT LEVEL QUESTIONS"
   ]
  },
  {
   "cell_type": "code",
   "execution_count": null,
   "metadata": {
    "id": "UbYaLBz2UWsD"
   },
   "outputs": [],
   "source": [
    "###11. Write a python program to print the numbers from a given number n till 0 using recursion"
   ]
  },
  {
   "cell_type": "code",
   "execution_count": null,
   "metadata": {
    "colab": {
     "base_uri": "https://localhost:8080/"
    },
    "executionInfo": {
     "elapsed": 5774,
     "status": "ok",
     "timestamp": 1670832375572,
     "user": {
      "displayName": "CSE_Sreedhari UA_50",
      "userId": "15858189763876286557"
     },
     "user_tz": -330
    },
    "id": "vtDjZ_HpVISt",
    "outputId": "80d26256-1b24-4a4c-ec2a-bbf9aface62c"
   },
   "outputs": [
    {
     "name": "stdout",
     "output_type": "stream",
     "text": [
      "Enter the number50\n",
      "1234567891011121314151617181920212223242526272829303132333435363738394041424344454647484950None\n"
     ]
    }
   ],
   "source": [
    "def p_number(n):\n",
    "  if n>0:\n",
    "    p_number(n-1)\n",
    "    print(n,end='')\n",
    "n=int(input('Enter the number'))\n",
    "print(p_number(n))"
   ]
  },
  {
   "cell_type": "code",
   "execution_count": null,
   "metadata": {
    "id": "L1w1xLpkWWeZ"
   },
   "outputs": [],
   "source": [
    "###12. Modify the element of a nested list inside the following list:\n",
    "###Sample input : list1 = [5, [10, 15, [20, 25, [30, 35], 40], 45], 50]\n",
    "###Change the element 35 to 3500"
   ]
  },
  {
   "cell_type": "code",
   "execution_count": null,
   "metadata": {
    "colab": {
     "base_uri": "https://localhost:8080/"
    },
    "executionInfo": {
     "elapsed": 8,
     "status": "ok",
     "timestamp": 1670832696085,
     "user": {
      "displayName": "CSE_Sreedhari UA_50",
      "userId": "15858189763876286557"
     },
     "user_tz": -330
    },
    "id": "-eTgboLjYUDG",
    "outputId": "7a8c6ec6-4c6a-4055-e357-0a10f45994a5"
   },
   "outputs": [
    {
     "name": "stdout",
     "output_type": "stream",
     "text": [
      "[5, [10, 15, [20, 25, [30, 3500], 40], 45], 50]\n"
     ]
    }
   ],
   "source": [
    " list1 = [5, [10, 15, [20, 25, [30, 35], 40], 45], 50]\n",
    "list1[1][2][2][1]=3500\n",
    "print(list1)"
   ]
  },
  {
   "cell_type": "code",
   "execution_count": null,
   "metadata": {
    "id": "5HXwQSpyY6BY"
   },
   "outputs": [],
   "source": [
    "###15. Python program to convert the temperature in degree centigrade to Fahrenheit and vice versa."
   ]
  },
  {
   "cell_type": "code",
   "execution_count": null,
   "metadata": {
    "colab": {
     "base_uri": "https://localhost:8080/"
    },
    "executionInfo": {
     "elapsed": 13691,
     "status": "ok",
     "timestamp": 1670835696072,
     "user": {
      "displayName": "CSE_Sreedhari UA_50",
      "userId": "15858189763876286557"
     },
     "user_tz": -330
    },
    "id": "Pe4G8yJAhPx6",
    "outputId": "833927ca-4ac9-496a-99bd-560c594f7e58"
   },
   "outputs": [
    {
     "name": "stdout",
     "output_type": "stream",
     "text": [
      "Enter the temperature in celcius:35\n",
      "Equivalent temperature in fahrenheit: 95.0\n",
      "Enter the temperature in fahrenheit:96\n",
      "Equivalent temoerature in celcius 35.55555555555556\n"
     ]
    }
   ],
   "source": [
    "def temp(cel):\n",
    "  f=(cel*1.8)+32\n",
    "  return f\n",
    "cel=float(input('Enter the temperature in celcius:'))\n",
    "fahr=temp(cel)\n",
    "print('Equivalent temperature in fahrenheit:',temp(cel))\n",
    "def temp(fahr):\n",
    "  c=(fahr-32)/1.8\n",
    "  return c\n",
    "fahr=float(input('Enter the temperature in fahrenheit:'))\n",
    "cel=temp(fahr)\n",
    "print('Equivalent temoerature in celcius',temp(fahr))"
   ]
  },
  {
   "cell_type": "code",
   "execution_count": null,
   "metadata": {
    "id": "cW26aMzuddaF"
   },
   "outputs": [],
   "source": [
    " "
   ]
  },
  {
   "cell_type": "code",
   "execution_count": null,
   "metadata": {
    "id": "rW8AClJbecZP"
   },
   "outputs": [],
   "source": []
  }
 ],
 "metadata": {
  "colab": {
   "authorship_tag": "ABX9TyNjo8RjlmG/+gbEiciNv2D5",
   "provenance": [
    {
     "file_id": "1EKpKseyyMKSDAql1LoRsRJumo4ajbF9u",
     "timestamp": 1670837089968
    }
   ]
  },
  "kernelspec": {
   "display_name": "Python 3 (ipykernel)",
   "language": "python",
   "name": "python3"
  },
  "language_info": {
   "codemirror_mode": {
    "name": "ipython",
    "version": 3
   },
   "file_extension": ".py",
   "mimetype": "text/x-python",
   "name": "python",
   "nbconvert_exporter": "python",
   "pygments_lexer": "ipython3",
   "version": "3.9.13"
  }
 },
 "nbformat": 4,
 "nbformat_minor": 1
}
